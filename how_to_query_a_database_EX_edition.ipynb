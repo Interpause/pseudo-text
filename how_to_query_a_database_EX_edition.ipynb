{
  "nbformat": 4,
  "nbformat_minor": 0,
  "metadata": {
    "colab": {
      "name": "how to query a database EX edition.ipynb",
      "provenance": [],
      "collapsed_sections": [],
      "machine_shape": "hm",
      "include_colab_link": true
    },
    "kernelspec": {
      "name": "python3",
      "display_name": "Python 3"
    },
    "accelerator": "GPU"
  },
  "cells": [
    {
      "cell_type": "markdown",
      "metadata": {
        "id": "view-in-github",
        "colab_type": "text"
      },
      "source": [
        "<a href=\"https://colab.research.google.com/github/Interpause/pseudo-text/blob/master/how_to_query_a_database_EX_edition.ipynb\" target=\"_parent\"><img src=\"https://colab.research.google.com/assets/colab-badge.svg\" alt=\"Open In Colab\"/></a>"
      ]
    },
    {
      "cell_type": "code",
      "metadata": {
        "id": "lpSAuFfXe_lr",
        "colab_type": "code",
        "outputId": "12dc6a93-3761-4105-8082-f0c765ace326",
        "colab": {
          "base_uri": "https://localhost:8080/",
          "height": 51
        }
      },
      "source": [
        "%matplotlib inline\n",
        "%unload_ext google.colab.data_table\n",
        "%tensorflow_version 2.x\n",
        "from google.colab import drive #drive.flush_and_unmount()\n",
        "import os\n",
        "import numpy as np\n",
        "import pandas as pd\n",
        "from collections import OrderedDict\n",
        "drive.mount('/content/drive')\n",
        "os.chdir('/content/drive/My Drive/CSIT Internship/code')"
      ],
      "execution_count": 30,
      "outputs": [
        {
          "output_type": "stream",
          "text": [
            "The google.colab.data_table extension is not loaded.\n",
            "Drive already mounted at /content/drive; to attempt to forcibly remount, call drive.mount(\"/content/drive\", force_remount=True).\n"
          ],
          "name": "stdout"
        }
      ]
    },
    {
      "cell_type": "code",
      "metadata": {
        "id": "g18L43S-jl2U",
        "colab_type": "code",
        "colab": {}
      },
      "source": [
        "df = pd.read_pickle('./raw/myNewsFinal.pkl')\n",
        "#df1.join(df2, how='outer').sort_index(1)"
      ],
      "execution_count": 0,
      "outputs": []
    },
    {
      "cell_type": "code",
      "metadata": {
        "id": "FxvfJauGf6gv",
        "colab_type": "code",
        "colab": {}
      },
      "source": [
        "def query(sent,vectorizer,dist,embeds,index,db,top_n=10,reverse=False):\n",
        "    aquery = vectorizer(sent)\n",
        "    reply = OrderedDict(sorted(zip(index,dist(aquery,embeds)),key = lambda x: x[1],reverse=reverse))\n",
        "    for ind,dist in list(reply.items())[:10]:\n",
        "        print('%s\\t%f\\t%s'%(str(ind)[:4],dist,db.df.loc[df.uuid==ind].title.values[0]))\n",
        "    print(df.loc[df.uuid==list(reply.keys())[0]].text.values[0])"
      ],
      "execution_count": 0,
      "outputs": []
    },
    {
      "cell_type": "code",
      "metadata": {
        "id": "XEIStyv8coxg",
        "colab_type": "code",
        "colab": {}
      },
      "source": [
        "#@title TS_SS stuff {display-mode: \"form\"}\n",
        "#@markdown https://github.com/taki0112/Vector_Similarity (i stole this)\n",
        "class TS_SS:\n",
        "    def Cosine(self, vec1: np.ndarray, vec2: np.ndarray):\n",
        "        return np.dot(vec1, vec2.T)/(np.linalg.norm(vec1) * np.linalg.norm(vec2))\n",
        "\n",
        "    def VectorSize(self, vec: np.ndarray):\n",
        "        return np.linalg.norm(vec)\n",
        "\n",
        "    def Euclidean(self, vec1: np.ndarray, vec2: np.ndarray):\n",
        "        return np.linalg.norm(vec1-vec2)\n",
        "\n",
        "    def Theta(self, vec1: np.ndarray, vec2: np.ndarray):\n",
        "        return np.arccos(self.Cosine(vec1, vec2)) + np.radians(10) #apparently the \"best\" value to solve overlapping problem (seems arbitrary tho)\n",
        "\n",
        "    def Triangle(self, vec1: np.ndarray, vec2: np.ndarray):\n",
        "        theta = np.radians(self.Theta(vec1, vec2))\n",
        "        return (self.VectorSize(vec1) * self.VectorSize(vec2) * np.sin(theta))/2\n",
        "\n",
        "    def Magnitude_Difference(self, vec1: np.ndarray, vec2: np.ndarray):\n",
        "        return abs(self.VectorSize(vec1) - self.VectorSize(vec2))\n",
        "\n",
        "    def Sector(self, vec1: np.ndarray, vec2: np.ndarray):\n",
        "        ED = self.Euclidean(vec1, vec2)\n",
        "        MD = self.Magnitude_Difference(vec1, vec2)\n",
        "        theta = self.Theta(vec1, vec2)\n",
        "        return np.pi * (ED + MD)**2 * theta/360\n",
        "\n",
        "    def __call__(self, vec1: np.ndarray, vec2: np.ndarray):\n",
        "        return self.Triangle(vec1, vec2) * self.Sector(vec1, vec2)\n",
        "tsss = TS_SS()"
      ],
      "execution_count": 0,
      "outputs": []
    },
    {
      "cell_type": "code",
      "metadata": {
        "id": "7AUlc_PZCD-o",
        "colab_type": "code",
        "colab": {}
      },
      "source": [
        "import sklearn.metrics\n",
        "def cosine(vec1,samples):\n",
        "    ans = sklearn.metrics.pairwise.cosine_similarity(np.array([vec1]),samples)\n",
        "    return 1 - ans[0]"
      ],
      "execution_count": 0,
      "outputs": []
    },
    {
      "cell_type": "markdown",
      "metadata": {
        "id": "UnBjrnpBfJPH",
        "colab_type": "text"
      },
      "source": [
        "# Future approaches\n",
        "- BERTsumEXT sentences before embedding\n",
        "- Factor in date\n",
        "\n",
        "##TODO:\n",
        "- word2vec weighted by tfidf\n",
        "- bertEXT instead of textRank\n",
        "- gensim sent vec, doc vec instead of sent-transformers\n",
        "- Try out flair's stacked embeddings (and use tfidf weighting o_o) (remove stopwords after embedding step; likewise remove stopword vectors) (adding tfidf might be overkill if further training RNN on top)\n",
        "- somehow deal with word sense disambiguation\n",
        "- spacy's NER? flair's NER? well it will be needed for active scrape\n",
        "- NER based search approach"
      ]
    },
    {
      "cell_type": "markdown",
      "metadata": {
        "id": "CNJXB_hGo5lS",
        "colab_type": "text"
      },
      "source": [
        "#TFIDF Base"
      ]
    },
    {
      "cell_type": "code",
      "metadata": {
        "id": "_7OLMkox7wL-",
        "colab_type": "code",
        "colab": {
          "base_uri": "https://localhost:8080/",
          "height": 51
        },
        "outputId": "4da10ef9-97ec-4828-d530-a30ee67f5084"
      },
      "source": [
        "import string\n",
        "import spacy\n",
        "import nltk\n",
        "from collections import OrderedDict\n",
        "nltk.download('stopwords')\n",
        "removables = nltk.corpus.stopwords.words('english')\n",
        "replacements = OrderedDict({'barack obama':'obama','donald trump':'trump','health care':'healthcare','hillary clinton':'hillary','president obama':'obama','barack':'obama','donald':'trump','gov ':'government ','said':'say'})\n",
        "class LemmaTokenizer(object):\n",
        "    def __init__(self):\n",
        "        self.nlp = spacy.load('en', disable=['parser', 'ner'])\n",
        "    def __call__(self, articles):\n",
        "        for rep,val in replacements.items(): articles = articles.replace(rep,val)\n",
        "        return [str(t.lemma_) for t in self.nlp(articles) if t.text not in removables]\n",
        "lemma = LemmaTokenizer()"
      ],
      "execution_count": 9,
      "outputs": [
        {
          "output_type": "stream",
          "text": [
            "[nltk_data] Downloading package stopwords to /root/nltk_data...\n",
            "[nltk_data]   Package stopwords is already up-to-date!\n"
          ],
          "name": "stdout"
        }
      ]
    },
    {
      "cell_type": "code",
      "metadata": {
        "id": "2XGkW-tllscc",
        "colab_type": "code",
        "colab": {}
      },
      "source": [
        "from sklearn.feature_extraction.text import TfidfVectorizer\n",
        "from collections import OrderedDict\n",
        "text_vectorizer = TfidfVectorizer(lowercase=True,\n",
        "                            #tokenizer=lemma, #lemmatizer somehow accents word sense disambiguation problems\n",
        "                            stop_words='english',\n",
        "                            ngram_range=(1,2),\n",
        "                            max_features=25000,\n",
        "                            norm=None)\n",
        "title_vectorizer = TfidfVectorizer(lowercase=True,\n",
        "                            #tokenizer=lemma, #lemmatizer somehow accents word sense disambiguation problems\n",
        "                            stop_words='english',\n",
        "                            ngram_range=(1,2),\n",
        "                            max_features=25000,\n",
        "                            norm=None)\n",
        "#TODO, increase ngram_range since word2vecs support phrases (underscores i think?)"
      ],
      "execution_count": 0,
      "outputs": []
    },
    {
      "cell_type": "code",
      "metadata": {
        "id": "N6CVMAN_TKiM",
        "colab_type": "code",
        "colab": {}
      },
      "source": [
        "database = pd.concat({'df':df.copy(),\n",
        "                 'tfidf_text':pd.DataFrame.sparse.from_spmatrix(text_vectorizer.fit_transform(df.text),index=df.index),\n",
        "                 'tfidf_title':pd.DataFrame.sparse.from_spmatrix(title_vectorizer.fit_transform(df.title),index=df.index)\n",
        "                 },\n",
        "                axis=1)#,copy=False)"
      ],
      "execution_count": 0,
      "outputs": []
    },
    {
      "cell_type": "code",
      "metadata": {
        "id": "9xe5GJSpgXqV",
        "colab_type": "code",
        "outputId": "7a089402-0f5f-4078-89e1-d5c4bb966231",
        "colab": {
          "base_uri": "https://localhost:8080/",
          "height": 904
        }
      },
      "source": [
        "test_query = 'vaccines cause autism'\n",
        "print('Cosine text')\n",
        "query(test_query,\n",
        "      lambda s: text_vectorizer.transform([s]).toarray()[0],\n",
        "      cosine,\n",
        "      database.tfidf_text.values,\n",
        "      database.df.uuid,\n",
        "      database)\n",
        "print('\\nTS-SS text')\n",
        "query(test_query,\n",
        "      lambda s: text_vectorizer.transform([s]).toarray()[0],\n",
        "      tsss,\n",
        "      database.tfidf_text.values,\n",
        "      database.df.uuid,\n",
        "      database)\n",
        "print('\\nCosine title')\n",
        "query(test_query,\n",
        "      lambda s: title_vectorizer.transform([s]).toarray()[0],\n",
        "      cosine,\n",
        "      database.tfidf_title.values,\n",
        "      database.df.uuid,\n",
        "      database)\n",
        "print('\\nTS-SS title')\n",
        "query(test_query,\n",
        "      lambda s: title_vectorizer.transform([s]).toarray()[0],\n",
        "      tsss,\n",
        "      database.tfidf_title.values,\n",
        "      database.df.uuid,\n",
        "      database)"
      ],
      "execution_count": 130,
      "outputs": [
        {
          "output_type": "stream",
          "text": [
            "Cosine text\n",
            "245b\t0.607406\tI'm Thankful for Autism, Eight Reasons this Thanksgiving I Am Giving Thanks\n",
            "ba97\t0.652245\tAutism and ADHD share genes\n",
            "aeb0\t0.660046\tVaccines Fast Facts\n",
            "946e\t0.729204\tA Parent-To-Parent Campaign To Get Vaccine Rates Up\n",
            "ecfd\t0.729218\tHer son died. And then anti-vaxers attacked her\n",
            "56cf\t0.741302\tAutism News\n",
            "7a57\t0.774695\tAutism News\n",
            "14a6\t0.809315\tSamoa measles deaths rise above 50, mostly small children\n",
            "6aa5\t0.809315\tSamoa measles deaths rise above 50, mostly small children\n",
            "312a\t0.814439\tSamoa measles deaths rise above 50, mostly small children\n",
            "I never really thought I would utter the words \"I'm thankful for autism\" though I have and while I certainly have moments of self-doubt, feelings of being overwhelmed, wants of wishing life was easier for my daughter, there are so many things that I am thankful for, because of autism. First, autism has allowed me to gain true friends. Choosing to be a friend to a person or with a family who lives with a loved one on the spectrum can be overwhelming. There have been countless friends that have come and gone but autism has allowed me to see who truly values myself, my family and my daughter for who we are. They listen when things get tough, the pick us up when we are down and they never ask for an apology when we have to leave someplace early because of well, autism. These friends, some old and some new choose to say \"yes\" to us even when saying \"no\" would be easier. For them, I am thankful. Second, autism has given myself and my entire family a better understanding of what is most important in life. We no longer pine for the most expensive cars, best vacations or the most gifts under the tree, instead we are grateful for small successes (which extend outside our daughter with special needs). We choose to realize that small moments truly are what life is all about and find ourselves recounting the baby steps we all take even if its something small like an \"A\" on a Math Test or learning to use the potty. For that, I am thankful. Third, we realize how lucky we are. Autism is hard. There is no doubt, just ask any one of my kids as they are skirting away from their sister when she's having an outburst. That being said, each of them will tell you the fact that they are lucky, at their young age they understand more than I could have ever taught them without autism in our lives. My children value others for who they are because of this journey. They each value unique abilities, the opportunity to find success in their own right. They also value health. Hearing the stories of our trips to the doctors or hospitals or the many Facebook pages I am on allow them to see how autism, while challenging and life altering is truly still easier than watching their sibling suffer in pain. For that, I am thankful. Fourth, autism has given me a voice. I have always loved writing, sharing and learning however as a mother, staying at home I have felt lost. I wanted to work, but where? Instead, my work I realize is in the home and learning to share our with hope this journey could make life better for others who come behind us. It may be a blog, a conversation, a friend reaching out for a family member, no matter what it is, I am here. I believe that this is my reason for writing, speaking and sharing. I am constantly willing to learn, willing to listen and willing to share what I have learned so that one day someone may have less of a struggle than we first did. For that, I am thankful. Fifth, autism has gotten me outside of myself and given me purpose. I realize that my life isn't lived for myself alone nor for my own satisfaction but for the opportunity to serve others. I truly believe that we were chosen to love, nurture and raise my daughter with extra needs to better ourselves and help others not just in the special needs community but anyone we encounter in our lives that need a little extra support. For this, I am thankful. Sixth, the path we are on is better than the one we were on. I said it. I won't deny there are moments I miss competitive gymnastics or the small Catholic School we attended but reality is, this journey is better. Certainly it is harder. It is more challenging and scary at times but it forces us slow down, we see the world around us, from our daughters eyes and it reminds us that life is best when lived not raced through with some tangible goal in mind instead asking us to focus on the intrinsic gifts we once missed. For that, I am thankful. Seventh, autism has given us an understanding of others and allowed us to release our own judgement of others. I won't lie, we were a bit judgemental. From a young age, I knew I was a better parent, I expected my children would be gifted and that following the \"right\" path I would get what I wanted when I wanted it. Sadly, until Seraphina, I believe I was raising my children to follow that path which I now realize was wrong. Autism has been a humbling experience that has lead me to realize that judgement of anyone has never gotten someone anywhere and so now, I am open to listening, learning, understanding and supporting. Always. I may not always agree, but I accept others for who they are and my children do too. For that, I am thankful. Eight, my family. Our family was never complete. Autism has made it that way. This year, my parents chose to move nearly eight hours to share in this journey with me. Not only did they choose to adopt me and raise me with my baggage but to accept who I am with my family in tow changing their own life trajectory to live on this path with us. No words can ever describe the thanks I have nor the opportunity to spend their golden years with them. Without autism, perhaps we would not have them just a hop, skip and a jump away and for that I am most thankful. Autism isn't the path I expected or wanted. It isn't the journey I chose but it is the path we are on, this year, I can finally say, I am thankful for autism not because of the challenges but for the beauty it has brought to my life. Happy Thanksgiving to all my friends and family and a huge hug to those walking, living and supporting this journey we are on. Every day I wake up I realize, I choose her. Always. For that, I am thankful.\n",
            "\n",
            "TS-SS text\n",
            "ecfd\t332386282700.391907\tHer son died. And then anti-vaxers attacked her\n",
            "aeb0\t332715742479.055420\tVaccines Fast Facts\n",
            "ba97\t332754045800.312378\tAutism and ADHD share genes\n",
            "245b\t332800903274.848694\tI'm Thankful for Autism, Eight Reasons this Thanksgiving I Am Giving Thanks\n",
            "946e\t332899422656.526062\tA Parent-To-Parent Campaign To Get Vaccine Rates Up\n",
            "5563\t333110198029.211365\tWhy Sri Lanka should go back on your bucket list\n",
            "ebcf\t333175881404.816345\tScientists are using MRI scans to reveal the physical makeup of our thoughts and feelings\n",
            "453b\t333221936118.597412\tThis is what its like to experience the crushing silence of the intensive care waiting room day in, day out\n",
            "56cf\t333253889615.352356\tAutism News\n",
            "66cc\t333257960435.854187\tU.S. officials deny access to doctors seeking to give flu shots to migrant children\n",
            "(CNN) Not long ago, a 4-year-old boy died of the flu. His mother, under doctor's orders, watched his two little brothers like a hawk, terrified they might get sick and die, too. Grieving and frightened, just days after her son's death she checked her Facebook page hoping to read messages of comfort from family and friends. Instead, she found dozens of hateful comments: You're a terrible mother. You killed your child. You deserved what happened to your son. This is all fake - your child doesn't exist. Bewildered and rattled, she closed her Facebook app. A few days later she received a text message from someone named Ron. Expect more like this, Ron warned. Expect more. The attacks were from those who oppose vaccination, and this mother, who lives in the Midwest, doesn't want her name used for fear the attention would only encourage more messages. Nothing too cruel Interviews with mothers who've lost children and with those who spy on anti-vaccination groups, reveal a tactic employed by anti-vaxers: When a child dies, members of the group sometimes encourage each other to go on that parent's Facebook page. The anti-vaxers then post messages telling the parents they're lying and their child never existed, or that the parent murdered them, or that vaccines killed the child, or some combination of all of those. Nothing is considered too cruel. Just days after their children died, mothers say anti-vaxers on social media called them whores, the c-word and baby killers. The mother in the Midwest, who wants to remain anonymous, isn't alone. Jill Promoli, who lives outside Toronto, lost her son to flu. She believes the anti-vaxers are trying to silence the very people who can make the strongest argument for vaccinations: those whose children died of vaccine-preventable illnesses. Jude McGee, who died of the flu at age two. His mother, Jill Promoli, has suffered abuse from anti-vaxers. Flu took the life of Promoli's 2-year-old son, Jude McGee, three years ago. She's since started a campaign in his name for flu prevention, including vaccination. \"I know that these people are really trying to hurt me, and I understand that the reason they're doing it is because they want me to stop,\" she said. Anti-vaxers respond Larry Cook, the founder of Stop Mandatory Vaccination, doesn't deny that such attacks on mothers of dead children exist. In an email to CNN, he wrote that members of his group make more than half a million comments on the group's Facebook page each month. \"Any discussions about parents who lose their children after those children are vaccinated would be minor in number, and even smaller would be the number of members reaching out to parents in private message to share their concerns that vaccines may have played a role in a death,\" Cook wrote. \"I do not condone violent behavior or tone and encourage decorum during discussion,\" Cook wrote, adding that anyone \"who deliberately engage[s] in the politics of advocating for compulsory vaccination where children may be further damaged through government vaccine mandates can expect push back and resistance, alongside knowledgable discussions about vaccine risk in social media commentary.\" Cook said some of the more than 160,000 members of his group have been targets of \"harassment campaigns,\" and that \"police have actually showed up at my members' doorsteps.\" He added that he's been threatened and included a screenshot of a private Facebook message that said, \"Finally found where you live. Finally I'll be able to put a bullet in you. You are dead.\" Another anti-vaccination leader blamed the postings on grieving parents' pages on \"infiltrators\" who try to \"create incendiary situations.\" \"I tell everybody that you should look at the person you're talking to and those on the other side of this discussion and recognize that they care about children, too,\" said Del Bigtree, chief executive officer of the Informed Consent Action Network. During the public comment period at a meeting last month of the US Center for Disease Control's Advisory Committee on Immunization Practices, more than a dozen people spoke about their concerns about vaccines. Some said they or their loved ones had been injured by vaccines. \"My older son suffered documented illness and regression following vaccination,\" said Jackie Martin-Sebell. \"These vaccines are not safe for everyone.\" Another speaker, Rilei Cherry, said her son developed autism as a result of vaccines. \"We owe it to our children to truly look at the long term effects of vaccines and be honest about what could happen to our children,\" she told the CDC committee. Despite the speakers' concerns, more than a dozen studies have shown that vaccines do not cause autism. The American Academy of Pediatrics says \"Vaccines are safe. Vaccines are effective. Vaccines save lives.\" Jill Promoli with her twin boys, Jude and Thomas McGee. Jude died at age two of the flu. The mothers On May 6, 2016, Promoli put her toddlers Jude and his twin brother Thomas, down for an afternoon nap in their home. Jude had a low-grade fever, but he was laughing and singing when he went down for his nap. When his mother went to check on him two hours later, he was dead. Promoli said the next few weeks were \"a living hell.\" \"Having to go in and plan a funeral and find the ability somehow to even take steps to walk into a funeral home, to make plans and decide whether to bury or cremate your child -- it was just all so horrifying,\" she said. When an autopsy came back showing Jude had died of the flu, Promoli started her flu prevention campaign. JUST WATCHED Teen opts to get vaccinated despite mother's objection Replay More Videos ... MUST WATCH Teen opts to get vaccinated despite mother's objection 04:58 That's when the online attacks began. Some anti-vaxers told her she'd murdered Jude and made up a story about the flu to cover up her crime. Others said vaccines had killed her son. Some called her the c-word. The worst ones -- the ones that would sometimes make her cry -- were the posts that said she was advocating for flu shots so that other children would die from the shots and their parents would be miserable like she was. \"The first time it made me feel really sick because I couldn't fathom how anybody could even come up with such a terrible claim,\" Promoli said. \"It caught me off guard in its cruelty. What kind of a person does this?\" Twisted logic that relies on scientific lies doesn't bother Promoli so much anymore. She's continued with her flu shot campaign, persuading Canadian Prime Minister Justin Trudeau to publicize his flu shot. Got this last night. Get your flu shot - for your protection and to help protect the more vulnerable people around you. #ForJudeForEveryone pic.twitter.com/2EFZJWUdkv Justin Trudeau (@JustinTrudeau) November 22, 2018 \"I've had to grow some very thick skin,\" she said. She said no matter how many nasty messages she's received -- and she says she's received hundreds -- she'll continue her campaign. \"The work that we're doing might mean that somebody else doesn't have to go plan a funeral for their toddler, and that is everything,\" she said. Other mothers have also persevered despite attacks from anti-vaxers. Serese Marotta lost her 5-year-old son, Joseph, to the flu in 2009, and is now chief operating officer of Families Fighting Flu, a group that encourages flu awareness and prevention, including vaccination. In 2017, she posted a video on the eighth anniversary of her son's death to reinforce the importance of getting the flu vaccine. \"SLUT,\" one person commented. \"PHARMA WHORE.\" \"May you rot in hell for all the damages you do!\" a Facebook user wrote on another one of her posts. She says a Facebook user in Australia sent her a death threat. \"She called me a lot of names I won't repeat and used the go-to conspiracy theories about government and big pharma, and I responded, 'I lost a child,' and questioned where she was coming from, and she continued to attack me,\" said Marotta, who lives in Syracuse, New York. Catherine and Greg Hughes, an Australian couple who lost their 1-month old son, Riley, to whooping cough, have also received online abuse. Too young to be vaccinated, Riley relied on herd immunity -- the vaccinations of others -- to protect him. As his mother held his hand, Riley Hughes was baptized hours before he passed away. But herd immunity didn't protect him, since the area where the Hughes family lived in Perth has some of the lowest vaccination rates in Australia. \"Riley's death was a very inconvenient truth for anti-vaccine activists,\" Catherine said. \"The nasty messages started 24 hours after he died. They called us baby killers and said we would have the blood of other babies on our hands. We've been told to kill ourselves.\" The couple started a vaccination campaign , Light for Riley. Catherine said they still receive vile comments years after Riley's death. \"[F**k] you, Hughes family,\" one Facebook user wrote on the Light for Riley page. \"What a [f**king] evil whore you really are,\" another user wrote to them in a private Facebook message. Another Facebook user was more succinct. \"Please die,\" the user wrote in a private message. \"A lot of them come from the position that they have children that were vaccine-injured,\" Catherine said. \"But a fair chunk of them are just haters.\" The professor Grieving mothers aren't the only targets of anti-vaxer abuse. Dorit Reiss, a professor at UC Hastings School of Law, has received countless vile messages, and as with the mothers, many of the messages are gender-oriented. Over the years, she's become pretty blase about it. \"'Whore' is pretty normal,\" said Reiss, a pro-vaccine advocate who has written extensively about vaccines. \"I've also been called a [c**t].\" Sometimes Reiss, who is Jewish, receives comments that mention the Holocaust. One Facebook user made a meme with a photo of her father with \"Proud Supporter of the Vaccine Holocaust.\" Reiss says her father has nothing to do with vaccines. Another meme shows a photo of Reiss holding her infant son and it says that Reiss is \"FORCE-injecting\" her baby with vaccines. Below the photo is written: \"Because one holocaust wasn't enough.\" Other Facebook users have said her children look sick in photos, and that vaccines are clearly to blame. \"The Boy [sic] appears lethargic,\" one user wrote, with \"dark circles under his eyes. These are common precipitants of vaccine induced immune damage and suppression, as well as vaccine induced transient ischemic adverse event.\" Of all the various messages from anti-vaxers, Reiss said the one that angered her the most was a voicemail left for her husband on his work phone. \"If I hear or see anything written by your wife after today, I will release your phone number, your work phone number, your work address, her work address, her work phone number,\" the caller said, correctly reciting their phone numbers and home address. The doctors Three pediatricians who are vocal vaccine advocates have also been frequent targets of anti-vaxers. All three now have security escorts when they speak publicly. Dr. Paul Offit keeps a fat folder of nasty messages he's received so that \"if someone kills me, my wife can give it to the police.\" He does not laugh when he says this. \"Rot in hell you baby killer,\" one user wrote in an email to Offit, who is director of the Vaccine Education Center at the Children's Hospital of Philadelphia and professor of pediatrics at the Perelman School of Medicine at the University of Pennsylvania. \"Go [f**king] kill yourself,\" another wrote. Dr. Peter Hotez at the Baylor College of Medicine in Houston is a vaccine researcher who wrote a book about his daughter called \" Vaccines did not Cause Rachel's Autism .\" \"You have no morals whatsoever and you know that you are a [f**king] liar. I hope you rot in hell,\" one anti-vaxer emailed Hotez, a professor of pediatrics and dean of the National School of Tropical Medicine at Baylor. Users on the social media platform MeWe discussed an upcoming public meeting Hotez was expected to attend. \"Maybe if we cause him enough stress he'll have a heart attack before [Wednesday],\" one woman wrote, adding, \"#sorrynotsorry.\" Dr. Richard Pan, a pediatrician and a California state senator, spearheaded a successful attempt to get rid of vaccine exemptions for personal or religious reasons for schoolchildren in his state. He's frequently been the target of race-driven abuse by anti-vaxers on Facebook. He says he's received thousands of hateful messages from anti-vaxers. \"Chinese garbage,\" one user wrote on Pan's Facebook page, followed by vomiting and devil emojis. \"Most ignorant [a**hole].\" \"I hope they stone you to death,\" another Facebook user wrote. \"I'll make a special trip to happily watch your head crack. The parents of the children you are destroying should each get a chance. Like a nazi pinata.\" Some of the professionals and the mothers interviewed for this story said they reported the abusive messages they received to Facebook. Most of those who made reports said they received an automated response and in the end nothing changed. Others said after they made a report the sender was suspended from Facebook for a short period of time, or their offensive messages were removed. Others said they didn't report to Facebook because the process was onerous or they'd heard that it wouldn't change anything. A Facebook spokesperson responded to these concerns: \"We try to empower our users with controls, such as blocking other users and moderating comments, so they can limit their exposure to unwanted, offensive or hurtful content. We also encourage people to report bullying behavior on our platform, so we can review the content and take proper action,\" the spokesperson wrote in an email. \"We want members of our community to feel safe and respected on Facebook and will remove material that appears to purposefully target private individuals with the intention of degrading or shaming them.\" Erin Costello creates fake Facebook accounts so she can join anti-vaxer groups to see if members are planning to attack mothers of dead children. The spy Erin Costello, a former bartender and current stay-at-home mom in Utica, New York, is the \"Ron\" who texted the grieving mother in the Midwest, warning her to expect more anti-vaxer attacks. Costello is an administrator for the pro-vaccine Facebook page \" What's the Harm? Costello is one of several vaccine advocates who've set up so-called \"sock puppet\" or fake Facebook accounts and then joins the closed anti-vaxer groups to spy on them. She said she often sees members discussing posts by parents of sick or dead children, sometimes suggesting that members \"educate\" those parents by posting on their page. For example, a member of the anti-vaccine group Stop Mandatory Vaccination said a mother had posted that her baby had suffered seizures after receiving vaccines. The anti-vaxer urged others in the group to \"comment for her to read! I want to win this mom over and she really trusts her pediatrician but at the same time she is scared!\" Another member of Stop Mandatory Vaccination re-posted a post by Catherine Hughes, the mother who'd lost her child to a vaccine-preventable disease, calling for others to vaccinate their children. \"Anyone want to chime in on this post?\" the anti-vaxer wrote. Another member responded, \"I feel sorry for the lost baby and her other children but someone needs to inject her with vaccines until she dies.\" A mother's greatest fear When she sees anti-vaxers talking about parents in their closed groups, Costello, the online pro-vaccine spy, gets in touch with those parents to warn them they may be getting nasty messages from the anti-vaxers. When Costello reached out to the mother in the Midwest, she explained why she was contacting her. \"I know you're likely getting many horrible messages on Facebook right now,\" Costello wrote to the mother. \"Children such as [yours] are the reason why I do my part to fight for overwhelming acceptance of vaccines as well as fight against the lies and misinformation that are recklessly spread around against vaccines.\" Get CNN Health's weekly newsletter Sign up here to get The Results Are In with Dr. Sanjay Gupta every Tuesday from the CNN Health team. The mother wrote back. \"I appreciate the strong role you take in helping protect families like mine,\" she said. After hundreds of Facebook comments from anti-vaxers, the mother turned off comments on her page, and deleted many of the ones she received. Some are still in her head, though. She weeps as she remembers the one that was hardest to read. \"The ones that said this was a fake story. That he wasn't real. That my child didn't exist,\" she said. \"Because when your child dies, that's the biggest fear -- that he will be forgotten.\"\n",
            "\n",
            "Cosine title\n",
            "1f58\t0.445545\tVaccines News\n",
            "7a57\t0.640472\tAutism News\n",
            "56cf\t0.640472\tAutism News\n",
            "aeb0\t0.657763\tVaccines Fast Facts\n",
            "ba97\t0.715462\tAutism and ADHD share genes\n",
            "1fb4\t0.726611\tNew York Ends Religious Exemptions For Required Vaccines\n",
            "c187\t0.748254\tPhiladelphia Eagles open sensory room for fans with autism\n",
            "12a4\t0.766969\tPinterest searches about vaccines will surface content from public health organizations\n",
            "245b\t0.777244\tI'm Thankful for Autism, Eight Reasons this Thanksgiving I Am Giving Thanks\n",
            "a2dd\t0.781161\tNurse takes in man with autism so he can get a new heart\n",
            "read more A new study has found severe pneumonia decreases by 35 per cent in children who receive a vaccine against a pneumonia-causing ... read more A newly developed experimental vaccine was more than eighty percent effective in protecting mice from succumbing to Staphylococcus aureus infection. S. aureus causes more than 30,000 deaths from ... read more Within seconds after an infected mosquito bites, the malaria parasite navigates the host skin and blood vessels to invade the liver, where it will stay embedded until thousands of infected cells ... read more Scientists have made a breakthrough in the hunt for a new vaccine for killer hospital bug Clostridioides difficile (C. ... read more A new study indicates a way for cancer immunotherapy to spur a more robust immune response. Such knowledge could lead to the development of better cancer vaccines and more effective immunotherapy ... read more A school-based human papillomavirus (HPV) immunization program in British Columbia, Canada, is dramatically reducing rates of cervical pre-cancer in B.C. women, according to a new ... read more A single dose of a highly diluted VSV-Ebola virus (EBOV) vaccine -- approximately one-millionth of what is in the vaccine being used to help control the ongoing Ebola outbreak in the Democratic ... read more There is no effective vaccine currently available to prevent Lyme disease in humans. Experts from academia, government, and industry recently convened to tackle this public health challenge. Now, a ... read more Predicting and controlling disease outbreaks would be easier and more reliable with the wider application of mathematical modelling, according to a new ... read more Scientists show, on the molecular level, how an experimental vaccine offers long-term protection against the ... read more A vaccine for the common and sometimes deadly RSV (respiratory syncytial virus) has been elusive, but scientists say a new discovery puts them much closer to ... read more Scientists have found a common, new source of tumor mutations that could offer three levels of therapy with a cancer vaccine: 1) a broadly protective, or pan-cancer vaccine 2) cancer-type specific ... read more MIT chemical engineers have developed a new type of lipid nanoparticle that can be used to deliver RNA vaccines. The particles also trigger the release of powerful immune signaling proteins that ... read more A new type of vaccine that can be stored at warmer temperatures, removing the need for refrigeration, has been developed for mosquito-borne virus Chikungunya in a major advance in vaccine technology. ... read more The biological clock influences immune response efficacy. Indeed, CD8 T cells, which are essential to fight infections and cancers, function very differently according to the time of ... read more A novel vaccine protected almost all mice and guinea pigs exposed to a new herpes virus. This may lead to the vaccine being tested in human ... read more Researchers have discovered that the dengue virus changes its shape through mutations in Envelope protein to evade vaccines and therapeutics. The study also gives insights on the types of treatment ... read more A new needle-free flu vaccine patch revved up the immune system much like a traditional flu shot without any negative side effects. The research represents an important step toward a technology that ... read more Despite its proven success at preventing cancer, many adolescents are still not getting the HPV vaccine. A new study from shows that physicians' delivery and communication practices must improve ...\n",
            "\n",
            "TS-SS title\n",
            "12a4\t361471659.564603\tPinterest searches about vaccines will surface content from public health organizations\n",
            "1fb4\t361471659.564603\tNew York Ends Religious Exemptions For Required Vaccines\n",
            "1f58\t361471659.564603\tVaccines News\n",
            "aeb0\t361471659.564603\tVaccines Fast Facts\n",
            "1ed7\t361471659.564603\tAfter child deaths, doctors pressure Border Patrol to let them administer flu vaccines\n",
            "c187\t361559186.249909\tPhiladelphia Eagles open sensory room for fans with autism\n",
            "7a57\t361559186.249909\tAutism News\n",
            "ba97\t361559186.249909\tAutism and ADHD share genes\n",
            "a2dd\t361559186.249909\tNurse takes in man with autism so he can get a new heart\n",
            "9196\t361559186.249909\tMall Santa Claus calms boy with autism who'd been too nervous to meet him for 6 years\n",
            "(CNN) Pinterest searches for \"measles\", \"vaccine safety\" and other vaccine-related content will only return results from public health organizations, the social media company announced Wednesday. Last year, Pinterest stopped showing search results related to vaccines in order to the prevent the spread of harmful health misinformation. Searching Pinterest now only shows results from institutions such as the World Health Organization, the US Centers for Disease Control and Prevention, the American Academy of Pediatrics and the WHO-established Vaccine Safety Net. \"We're taking this approach because we believe that showing vaccine misinformation alongside resources from public health experts isn't responsible,\" Ifeoma Ozoma, Pinterest's public policy and social impact manager said in a statement. \"As we continue to tackle health misinformation, we remove it and the accounts that spread it from our service.\" No recommendations or comments will appear on Pins in these results and it won't show ads. Read More\n"
          ],
          "name": "stdout"
        }
      ]
    },
    {
      "cell_type": "markdown",
      "metadata": {
        "id": "ISvGy7RgRIKM",
        "colab_type": "text"
      },
      "source": [
        "## Brief analysis\n",
        "TS-SS seems better than cosine on average. (probably not confirmation bias)"
      ]
    },
    {
      "cell_type": "code",
      "metadata": {
        "id": "Kmik4vG6TS1K",
        "colab_type": "code",
        "colab": {}
      },
      "source": [
        "import pickle\n",
        "with open('./tfidf_vectorizer.bin','wb') as f:\n",
        "    pickle.dump({\n",
        "        'tfidf_text':text_vectorizer,\n",
        "        'tfidf_title':title_vectorizer\n",
        "    },f)"
      ],
      "execution_count": 0,
      "outputs": []
    },
    {
      "cell_type": "markdown",
      "metadata": {
        "id": "6BtM2V0f571G",
        "colab_type": "text"
      },
      "source": [
        "# Reload Vectorizers"
      ]
    },
    {
      "cell_type": "code",
      "metadata": {
        "id": "4A1GrMOa5FKM",
        "colab_type": "code",
        "colab": {}
      },
      "source": [
        "import pickle\n",
        "with open('./tfidf_vectorizer.bin','rb') as f:\n",
        "    temp = pickle.load(f)\n",
        "    text_vectorizer = temp['tfidf_text']\n",
        "    title_vectorizer = temp['tfidf_title']\n",
        "    del temp"
      ],
      "execution_count": 0,
      "outputs": []
    },
    {
      "cell_type": "code",
      "metadata": {
        "id": "S6xvtawn53tB",
        "colab_type": "code",
        "colab": {}
      },
      "source": [
        "database = pd.concat({'df':df.copy(),\n",
        "                 'tfidf_text':pd.DataFrame.sparse.from_spmatrix(text_vectorizer.transform(df.text),index=df.index),\n",
        "                 'tfidf_title':pd.DataFrame.sparse.from_spmatrix(title_vectorizer.transform(df.title),index=df.index)\n",
        "                 },\n",
        "                axis=1)#,copy=False)"
      ],
      "execution_count": 0,
      "outputs": []
    },
    {
      "cell_type": "markdown",
      "metadata": {
        "colab_type": "text",
        "id": "d_npQsnL-zhF"
      },
      "source": [
        "# Word embed + WMD"
      ]
    },
    {
      "cell_type": "code",
      "metadata": {
        "id": "I1GPxx59onrh",
        "colab_type": "code",
        "colab": {}
      },
      "source": [
        "fit_embed(glove,database.tfidf_title.values,title_vectorizer.vocabulary_,database.df.uuid)\n",
        "#!pip install wmd\n",
        "#probably only works for tfidf plus wmd\n",
        "from wmd import WMD\n",
        "def fit_wmd(word_embeds,doc_embeds,vocab_ind,uuids):\n",
        "    ind_embed = {i:word_embeds[w] for w,i in vocab_ind.items()}\n",
        "    nbow = {uuid:(uuid,tuple(range(len(vocab_ind))),doc_embeds[i]) for i,uuid in enumerate(uuids)}\n",
        "    return WMD(ind_embed, nbow)\n",
        "\n",
        "def query_wmd(sent,wmd):\n",
        "    return wmd.nearest_neighbors(sent)"
      ],
      "execution_count": 0,
      "outputs": []
    },
    {
      "cell_type": "markdown",
      "metadata": {
        "id": "S6XnXPnnguiC",
        "colab_type": "text"
      },
      "source": [
        "# Sent2Vec Base"
      ]
    },
    {
      "cell_type": "code",
      "metadata": {
        "id": "G4hqvWZigxf7",
        "colab_type": "code",
        "colab": {}
      },
      "source": [
        "#!pip install -U sentence-transformers\n",
        "promising = (\n",
        "'bert-base-wikipedia-sections-mean-tokens', #crap\n",
        "'distilbert-base-nli-stsb-mean-tokens',\n",
        "'roberta-base-nli-stsb-mean-tokens',\n",
        "'roberta-base-nli-mean-tokens', #crap\n",
        "'distilbert-base-nli-mean-tokens'\n",
        ")"
      ],
      "execution_count": 0,
      "outputs": []
    },
    {
      "cell_type": "code",
      "metadata": {
        "id": "OxSfIf13EOBj",
        "colab_type": "code",
        "colab": {
          "base_uri": "https://localhost:8080/",
          "height": 34
        },
        "outputId": "c2d9f283-84f0-4d8d-8729-1a3e139d6f56"
      },
      "source": [
        "from sentence_transformers import SentenceTransformer\n",
        "model = SentenceTransformer('distilbert-base-nli-stsb-mean-tokens')"
      ],
      "execution_count": 43,
      "outputs": [
        {
          "output_type": "stream",
          "text": [
            "100%|██████████| 245M/245M [00:10<00:00, 22.6MB/s]\n"
          ],
          "name": "stderr"
        }
      ]
    },
    {
      "cell_type": "code",
      "metadata": {
        "id": "mWm5e-C_E0M7",
        "colab_type": "code",
        "colab": {}
      },
      "source": [
        "from gensim.summarization import summarize, keywords\n",
        "def encode_document(sent,model):\n",
        "    return model.encode([sent])[0]\n",
        "    #try:\n",
        "        #ext = summarize(sent,split=True)\n",
        "        #if len(ext) <= 1:\n",
        "        #    return model.encode([sent])[0]\n",
        "        #else:\n",
        "        #    return np.mean(model.encode(ext),axis=0)\n",
        "    #except ValueError:\n",
        "    #    return model.encode([sent])[0]\n",
        "def encode_documents(sents,model):\n",
        "    return np.stack(pd.Series(sents).apply(encode_document,args=(model,)))\n",
        "#np.mean(model.encode(summarize(df.loc[31].text,split=True)),axis=0)"
      ],
      "execution_count": 0,
      "outputs": []
    },
    {
      "cell_type": "code",
      "metadata": {
        "id": "E51c-XB7ItVd",
        "colab_type": "code",
        "colab": {
          "base_uri": "https://localhost:8080/",
          "height": 68
        },
        "outputId": "6a4ee57b-23e0-4ae4-85c9-d6bf660f93bb"
      },
      "source": [
        "all_enc = {}\n",
        "for model_name in promising:\n",
        "    model = SentenceTransformer(model_name)\n",
        "    all_enc[model_name+'_title'] = pd.DataFrame(encode_documents(df.title,model),index=df.index)\n",
        "    all_enc[model_name+'_text'] = pd.DataFrame(encode_documents(df.text,model),index=df.index)"
      ],
      "execution_count": 107,
      "outputs": [
        {
          "output_type": "stream",
          "text": [
            "100%|██████████| 459M/459M [00:21<00:00, 21.7MB/s]\n",
            "100%|██████████| 459M/459M [00:20<00:00, 22.4MB/s]\n",
            "100%|██████████| 245M/245M [00:11<00:00, 20.8MB/s]\n"
          ],
          "name": "stderr"
        }
      ]
    },
    {
      "cell_type": "code",
      "metadata": {
        "id": "Lc9TmX3lC-PX",
        "colab_type": "code",
        "colab": {}
      },
      "source": [
        "import pickle\n",
        "with open('./raw/sentTransData.bin','wb') as f:\n",
        "    pickle.dump(all_enc,f)"
      ],
      "execution_count": 0,
      "outputs": []
    },
    {
      "cell_type": "code",
      "metadata": {
        "id": "Gm5ZqYOSiXtZ",
        "colab_type": "code",
        "colab": {}
      },
      "source": [
        "import pickle\n",
        "with open('./raw/sentTransData.bin','rb') as f:\n",
        "    enc = pickle.load(f)"
      ],
      "execution_count": 0,
      "outputs": []
    },
    {
      "cell_type": "code",
      "metadata": {
        "id": "t73yh9NxNS4v",
        "colab_type": "code",
        "colab": {}
      },
      "source": [
        "db2 = pd.concat(all_enc,axis=1)#,copy=False)"
      ],
      "execution_count": 0,
      "outputs": []
    },
    {
      "cell_type": "code",
      "metadata": {
        "id": "0QqSISX3y9uM",
        "colab_type": "code",
        "colab": {
          "base_uri": "https://localhost:8080/",
          "height": 1000
        },
        "outputId": "7c155bc0-6110-44be-9eaf-c531d711c620"
      },
      "source": [
        "test_query = \"vaccines cause autism\"\n",
        "for model_name in promising:\n",
        "    model = SentenceTransformer(model_name)\n",
        "    print(model_name)\n",
        "    print('Title')\n",
        "    query(test_query,\n",
        "        lambda s: encode_document(s,model),\n",
        "        tsss,\n",
        "        db2[model_name+'_title'].values,\n",
        "        db2.df.uuid,\n",
        "        db2)\n",
        "    print('\\nText')\n",
        "    query(test_query,\n",
        "        lambda s: encode_document(s,model),\n",
        "        tsss,\n",
        "        db2[model_name+'_text'].values,\n",
        "        db2.df.uuid,\n",
        "        db2)\n",
        "    print('\\n')"
      ],
      "execution_count": 131,
      "outputs": [
        {
          "output_type": "stream",
          "text": [
            "bert-base-wikipedia-sections-mean-tokens\n",
            "Title\n",
            "255a\t1195552.625000\tPrenatal and early life exposure to multiple air pollutants increases odds of toddler allergies: Early exposure to candles, cats and environmental tobacco smoke showed greatest impact\n",
            "cfb0\t1195573.125000\tEating more gluten early in life is tied to children's higher risk of celiac disease\n",
            "fd63\t1195573.125000\tHealth experts warn of emerging threat of Nipah virus\n",
            "8de7\t1195573.125000\tHealth experts warn of emerging threat of Nipah virus\n",
            "527a\t1195583.000000\t'Junk DNA' affects inherited cancer risk\n",
            "d846\t1195587.875000\tInbreeding and population/demographic shifts could have led to Neanderthal extinction: Neanderthal extinction could have occurred without environmental pressure or competition with modern humans\n",
            "78a1\t1195595.375000\tNew vaccine will stop the spread of bovine TB\n",
            "2981\t1195596.000000\tThere's A Promising New Vaccine For One Of The World's Top Health Threats\n",
            "eb65\t1195599.250000\tWhy The Ebola Response Is A Success In Goma But Not Elsewhere In Congo\n",
            "c51f\t1195599.875000\tClimate change threatens reindeer and a way of life\n",
            "A new article in Annals of Allergy, Asthma and Immunology, the scientific journal of the American College of Allergy, Asthma and Immunology (ACAAI) shows a significant association between multiple prenatal and early life exposures to indoor pollutants and the degree of allergic sensitivity in 2-year-olds. \"Because most children are exposed to more than one pollutant or allergen, we examined the relationship between multiple exposures and allergic sensitizations at 2 years of age,\" says Mallory Gallant, MSc, lead author of the study. \"We examined exposure to dogs, cats, air fresheners, candles, mold, environmental tobacco smoke (ETS) and carpet, all of which have been associated with childhood allergies. Of the exposures we measured, prenatal exposure to candles, 6-month exposure to cats and 2-year exposure to ETS significantly increased the chance of a positive skin prick test (SPT) at 2 years of age.\" 108 mother-child pairs were followed from birth to 2 years of age. Exposure to air fresheners, candles, mold, cats, dogs, carpet and environmental tobacco smoke (ETS) during the prenatal, 6-month, 1-year, and 2-year timepoints were obtained. A SPT was performed on both the mother and the 2-year-old child to measure allergic sensitivity. Allergic sensitization means that a person has had (or may have had given the possibilities for false positives) an allergic type immune response to a substance. But it does not necessarily mean that the substance causes them problems. \"The increase in the average amount of time indoors means there is an increased risk of harmful health outcomes related to exposure to indoor air pollutants,\" says allergist Anne K. Ellis, MD, study author, and member of the ACAAI Environmental Allergy Committee. \"Additionally, children breathe more frequently per minute than adults, and mostly breathe through their mouths. These differences could allow for air pollutants to penetrate more deeply into the lungs and at higher concentrations, making children more vulnerable to air pollutants.\" Another goal of the study was to evaluate the effect of multiple exposures on allergic outcomes at 2 years of age. The study found that children with a positive SPT at 2 years of age had significantly more exposures prenatally, at the 1-year and 2-year time points compared to children with a negative SPT. As the number of indoor air polluting exposures increased, the percentage of children with a positive SPT increased. Dr. Ellis says, \"When considered together, the findings suggest that the effect of multiple exposures may contribute more to allergy development than one single exposure.\"\n",
            "\n",
            "Text\n",
            "2db7\t1210671.000000\tWhat blocks bird flu in human cells?\n",
            "cfb0\t1210678.875000\tEating more gluten early in life is tied to children's higher risk of celiac disease\n",
            "2981\t1210692.375000\tThere's A Promising New Vaccine For One Of The World's Top Health Threats\n",
            "b742\t1210703.125000\tMyths about osteoarthritis\n",
            "029e\t1210703.750000\tHumans co-evolved with immune-related diseases -- and it's still happening\n",
            "020a\t1210704.625000\tLeukemia: Could germ-free childhoods could trigger illness?\n",
            "d548\t1210709.125000\tType 2 diabetes warning: A popular activity is dangerously affecting your blood sugar\n",
            "9326\t1210709.375000\tReduce cholesterol earlier in life to prevent heart problems later, study says\n",
            "aeb0\t1210711.375000\tVaccines Fast Facts\n",
            "021b\t1210712.750000\tA Samoan father loses 3 of his 5 children to the measles outbreak\n",
            "Normally, bird flu viruses do not spread easily from person to person. But if this does happen, it could trigger a pandemic. Researchers from the MDC and RKI have now explained in the journal Nature Communications what makes the leap from animals to humans less likely. Whenever people suddenly become infected with a bird flu virus such as H5N1, H7N9, and H5N6, the World Health Organization (WHO) has to assess the risk: Are these the first signs of a pandemic? Or is it just a few dozen or hundred cases that have only arisen through close contact with infected poultry? Researchers led by Professor Matthias Selbach from the Max Delbrueck Center for Molecular Medicine (MDC) have now found another piece of the puzzle that may be important in this initial assessment. In a paper published in Nature Communications, the researchers explain that avian influenza A viruses (IAVs) are unable to transform infected human cells into effective virus factories, because they do not produce enough of the matrix protein M1 following infection. The virus requires this protein, however, to export its many copies of its genetic material from the cell nucleus -- a prerequisite for building new viruses. Not all flu is the same -- the name refers to a large family of viruses. Each member of this family is named after two prickly growths on the virus's surface: hemagglutinin (H), which enables the virus to infect human and animal cells where it can multiply, and neuraminidase (N), which helps the virus's offspring to extract themselves from the infected cell. In waterfowl, there are 16 known hemagglutinin subtypes and nine known neuraminidase subtypes. That results in at least 144 possible combinations that are constantly changing and adapting to new hosts -- like chickens, for example, but also mammals including horses, pigs, and humans. Such new virus variants are often more dangerous than seasonal flu, because the human immune system has never encountered them before. Some people find themselves defenseless, while the immune system of others reacts so violently that the person's own resistance damages the body. In the worst case scenario, a pandemic could cost millions of lives. The Spanish flu of 1918, for example, claimed more than 50 million victims. Researchers around the world are therefore trying to understand the rules that determine when there is the possibility of a pandemic, and when there is not. Why are human cells bad virus factories for bird flu? \"Hemagglutinin in humans and birds has a slightly different chemical structure, for example, which makes it more difficult for an avian influenza virus to infiltrate a human cell than a bird's cell,\" explains Selbach. Boris Bogdanow, a PhD student in Selbach's research group and the lead author of the current study, focused his research specifically on what other natural species barriers exist in flu viruses. Matthias Selbach's group analyses proteins using quantitative mass spectrometry. In collaboration with the Robert Koch Institute (RKI), Boris Bogdanow and his colleagues infected human pulmonary epithelial cells separately with a bird flu virus and a human flu virus. They then measured the quantity of all newly produced proteins in the mass spectrometer. Postdoctoral researcher Dr. Katrin Eichelbaum had also developed a method that enables the precise differentiation of new and old proteins. \"In the first analysis, we did not find any major differences between the two strains,\" reports Boris Bogdanow. \"At first glance, the avian flu virus and the human virus displayed little difference with regard to protein production, which was quite surprising.\" But the devil is in the detail, so Bogdanow performed more in-depth analyses to take a closer look at the protein distribution. In doing so, he came across the matrix protein M1, much larger quantities of which were produced in the lung cells infected with the human virus. The M1 protein is responsible, among other things, for exporting the replicated viral RNA from the nucleus of the infected cells and then assembling it with other newly produced viral proteins to form flu virus offspring. Could it be, therefore, that the viral RNA of bird flu viruses in human cells remains trapped in the cell nucleus because too little M1 protein is present? Another piece of the puzzle Fluorescence microscopic investigations confirmed these suspicions. The genetic material of the bird flu virus was far less capable of breaking out of the cell nucleus than the RNA of the human flu virus. But why? With the help of the MDC's sequencing platform and Professor Irmtraud Meyer, they discovered a small segment in the viral RNA of the avian flu virus that affects alternative splicing. \"We call this a cis-regulatory element,\" says Bogdanow. \"Alternative splicing regulates which proteins are ultimately made from a single gene, because many genes code for more than one protein. When human cells are attacked by bird flu, this element ensures that more M2 rather than M1 protein is produced.\" In order to assess the relevance of this result, Professor Thorsten Wolff and his research team from the Robert Koch Institute transferred the cis-regulatory element from the bird virus to the human virus. This did indeed result in the human flu virus replicating less effectively in human lung cells. Selbach's team even conducted a similar experiment with Spanish flu viruses, whose genetic material was isolated in the nineties from graves in the permafrost soil of Alaska. However, they only used a small part of the viral RNA and not the entire virus for the experiment. Nevertheless, they were also able to confirm their theory on the cis-regulatory element for this virus. \"How pathogenic an avian flu virus is and whether or not it has pandemic potential depends, of course, on many factors,\" says Selbach. \"A study on cell cultures cannot cover all these factors. Nevertheless, it might be useful in future to include an analysis of this RNA segment in the risk assessment of avian influenza viruses.\"\n",
            "\n",
            "\n",
            "distilbert-base-nli-stsb-mean-tokens\n",
            "Title\n",
            "1f58\t96003560.000000\tVaccines News\n",
            "7a57\t96055384.000000\tAutism News\n",
            "56cf\t96055384.000000\tAutism News\n",
            "aeb0\t96092208.000000\tVaccines Fast Facts\n",
            "2981\t96192152.000000\tThere's A Promising New Vaccine For One Of The World's Top Health Threats\n",
            "5634\t96235264.000000\tAn Experimental Genetic Test Gives Early Warning For Kids At Risk Of Type 1 Diabetes\n",
            "ba97\t96239768.000000\tAutism and ADHD share genes\n",
            "ccbd\t96279192.000000\tSide effects of pediatric medications for anxiety, OCD\n",
            "2028\t96291264.000000\tInfluenza News\n",
            "5f06\t96291536.000000\tSpecialized immune cells could help repair inflammatory bowel disease damage in children\n",
            "read more A new study has found severe pneumonia decreases by 35 per cent in children who receive a vaccine against a pneumonia-causing ... read more A newly developed experimental vaccine was more than eighty percent effective in protecting mice from succumbing to Staphylococcus aureus infection. S. aureus causes more than 30,000 deaths from ... read more Within seconds after an infected mosquito bites, the malaria parasite navigates the host skin and blood vessels to invade the liver, where it will stay embedded until thousands of infected cells ... read more Scientists have made a breakthrough in the hunt for a new vaccine for killer hospital bug Clostridioides difficile (C. ... read more A new study indicates a way for cancer immunotherapy to spur a more robust immune response. Such knowledge could lead to the development of better cancer vaccines and more effective immunotherapy ... read more A school-based human papillomavirus (HPV) immunization program in British Columbia, Canada, is dramatically reducing rates of cervical pre-cancer in B.C. women, according to a new ... read more A single dose of a highly diluted VSV-Ebola virus (EBOV) vaccine -- approximately one-millionth of what is in the vaccine being used to help control the ongoing Ebola outbreak in the Democratic ... read more There is no effective vaccine currently available to prevent Lyme disease in humans. Experts from academia, government, and industry recently convened to tackle this public health challenge. Now, a ... read more Predicting and controlling disease outbreaks would be easier and more reliable with the wider application of mathematical modelling, according to a new ... read more Scientists show, on the molecular level, how an experimental vaccine offers long-term protection against the ... read more A vaccine for the common and sometimes deadly RSV (respiratory syncytial virus) has been elusive, but scientists say a new discovery puts them much closer to ... read more Scientists have found a common, new source of tumor mutations that could offer three levels of therapy with a cancer vaccine: 1) a broadly protective, or pan-cancer vaccine 2) cancer-type specific ... read more MIT chemical engineers have developed a new type of lipid nanoparticle that can be used to deliver RNA vaccines. The particles also trigger the release of powerful immune signaling proteins that ... read more A new type of vaccine that can be stored at warmer temperatures, removing the need for refrigeration, has been developed for mosquito-borne virus Chikungunya in a major advance in vaccine technology. ... read more The biological clock influences immune response efficacy. Indeed, CD8 T cells, which are essential to fight infections and cancers, function very differently according to the time of ... read more A novel vaccine protected almost all mice and guinea pigs exposed to a new herpes virus. This may lead to the vaccine being tested in human ... read more Researchers have discovered that the dengue virus changes its shape through mutations in Envelope protein to evade vaccines and therapeutics. The study also gives insights on the types of treatment ... read more A new needle-free flu vaccine patch revved up the immune system much like a traditional flu shot without any negative side effects. The research represents an important step toward a technology that ... read more Despite its proven success at preventing cancer, many adolescents are still not getting the HPV vaccine. A new study from shows that physicians' delivery and communication practices must improve ...\n",
            "\n",
            "Text\n",
            "ba97\t76404312.000000\tAutism and ADHD share genes\n",
            "aeb0\t76405352.000000\tVaccines Fast Facts\n",
            "528a\t76409112.000000\tFacebook debuts vaccine education pop-up windows\n",
            "245b\t76425408.000000\tI'm Thankful for Autism, Eight Reasons this Thanksgiving I Am Giving Thanks\n",
            "d54c\t76444232.000000\tWhat to do when your baby wont stop coughing\n",
            "5634\t76445920.000000\tAn Experimental Genetic Test Gives Early Warning For Kids At Risk Of Type 1 Diabetes\n",
            "020a\t76453480.000000\tLeukemia: Could germ-free childhoods could trigger illness?\n",
            "cf48\t76455032.000000\tInfant and Preschool Learning News\n",
            "9b30\t76456168.000000\tIt's not just you: Flu season strikes earlier than usual\n",
            "e8e9\t76458608.000000\tTick bites: 2 sickened newborns could signal increase in infections\n",
            "Researchers from the national psychiatric project iPSYCH have found that autism and ADHD share changes in the same genes. The new knowledge relates directly to the biological causes of the two child psychiatric disorders. In Denmark, approximately one per cent of schoolchildren have autism and two to three per cent are diagnosed with ADHD. Autism and ADHD are different developmental disorders, but they can have certain common symptoms. For example, children with autism can demonstrate violent or aggressive behaviour, be impulsive, and have problems in school and with social relations -- and these same symptoms can be shared by children with ADHD. Researchers from iPSYCH, Denmark's largest research project in the field of psychiatry, have now discovered that the similarities between the two diagnoses can be linked to changes in the same genes. The new study is the largest study to date of rare mutations in the genome of people with ADHD and autism. \"The very fact that mutations are found to the same extent and in the same genes in children with autism and in children with ADHD, points towards the same biological mechanisms being involved,\" says Anders Brglum, who is professor at Aarhus University, principal investigator at iPSYCH and one of the leading researchers behind the study. The study was carried out in collaboration with the Broad Institute and Harvard. First time a gene is linked to ADHD and autism The results have just been published in the international journal Nature Neuroscience. advertisement \"This is the first time that the genome has been mapped so comprehensively for both ADHD and autism, and the discovery that children with ADHD have the same amount of deleterious gene mutations in their DNA as children with autism is both striking and quite surprising,\" says Anders Brglum. The findings point directly towards which biological causal mechanisms are shared by ADHD and autism. \"In the study, the gene that is most frequently affected by mutations in people with ADHD or autism is the so-called MAP1A gene. The gene is involved in the formation of the physical structure of nerve cells -- their inner 'skeleton', so to speak -- and is important for the development of the brain,\" explains Anders Brglum. This is the first time that this gene has been linked to the development of ADHD and autism, and the mutations found by the researchers give a significantly increased risk of developing autism and/or ADHD. \"We discovered an increased burden of mutations that destroy or severely affect the MAP1A gene in those with ADHD and autism, while very few of the control subjects had such changes in the gene,\" explains Anders Brglum. This means that the risk of ADHD and autism increases by more than 15 times for people who carry such a mutation. The researchers have analysed the genes of approximately 8,000 people with autism and/or ADHD, and 5,000 people without either of the two disorders, all from Denmark. The study also incorporated additional data from approx. 45,000 international control subjects who did not have any psychiatric disorders. \"The study shows that many more genes for ADHD and autism can be identified directly by studying more people in a similar way with extensive DNA sequencing, thereby providing a more complete picture of the biological causal mechanisms and possible approaches to medical treatment,\" explains the researcher. As part of the project, Anders Brglum and his colleagues have had access to samples from the Danish National Biobank at the Statens Serum Institut and to data from the Danish Psychiatric Central Research Register. People born in Denmark between 1981 and 2005 were matched with diagnoses of autism, ADHD and mental retardation.\n",
            "\n",
            "\n",
            "roberta-base-nli-stsb-mean-tokens\n",
            "Title\n",
            "0ecf\t278522368.000000\tResearch looks at side effects for pediatric medications\n",
            "2981\t278530016.000000\tThere's A Promising New Vaccine For One Of The World's Top Health Threats\n",
            "ccbd\t278578176.000000\tSide effects of pediatric medications for anxiety, OCD\n",
            "1f58\t278642400.000000\tVaccines News\n",
            "9275\t278762432.000000\tMalaysias first polio case in 27 years is a child who wasnt vaccinated. Here are 3 things to know about the incurable virus\n",
            "020a\t278852096.000000\tLeukemia: Could germ-free childhoods could trigger illness?\n",
            "9380\t278858656.000000\tPolio scare: Malaysia begins vaccination campaign as first case in 27 years reported\n",
            "10c8\t278884320.000000\tHealth & Medicine News\n",
            "99a0\t278884320.000000\tHealth & Medicine News\n",
            "fdb2\t278884320.000000\tHealth & Medicine News\n",
            "Jeffrey Mills, associate professor in the Department of Economics at the UC Lindner College of Business, and Dr. Jeffrey Strawn, associate professor in the Department of Psychiatry and Behavioral Neuroscience at the University of Cincinnati College of Medicine. Credit: University of Cincinnati Sometimes, the medications needed to function and live a quality life cause side effects that can make life quite uncomfortable. Dr. Jeffrey Strawn, associate professor in the Department of Psychiatry and Behavioral Neuroscience at the University of Cincinnati College of Medicine, and Jeffrey Mills, associate professor in the Department of Economics at the UC Lindner College of Business, published a study in the Journal of the American Academy of Child & Adolescent Psychiatry looking specifically at side effects that impact children and adolescents being treated for anxiety disorders and obsessive-compulsive disorder (OCD). Strawn says this is one of the first studies examining side effects of these medications in youth that doesn't just focus on suicidal thinking or discontinuation of medication. \"For youth with anxiety disorders and OCD, these medications improve symptoms and functional outcomes,\" he says. \"Over the past two decades, selective serotonin reuptake inhibitors, known as SSRIs, and serotonin-norepinephrine reuptake inhibitors, known as SNRIs, have become the standard medication treatments for pediatric patients with these conditions.\" The UC study assessed quality-of-life issues. \"Evaluations of antidepressant tolerability focus almost entirely on discontinuation of the medicine or suicidality. We wanted to examine side effects commonly reported in pediatric patients treated with antidepressants, including agitation, nausea, abdominal pain, insomnia, headache and fatigue, in addition to suicidality and discontinuation of medication.\" SSRIs increase levels of serotonin in the brain. SNRIs block the reabsorption of the neurotransmitters serotonin and norepinephrine in the brain. In this study, Mills and Strawn looked at academic peer-reviewed articles through March 1, 2019, and identified SSRI and SNRI studies in patients under 18 with OCD and anxiety disorders, specifically noting side effect rates. They used statistical tools known as Bayesian hierarchical models created by Mills that enable results from different studies to be combined while taking into account variations across patients and those studies. \"Out of 18 trials, which included more than 2,500 patients who were treated and then compared to patients taking a placebo, SSRIs produced more side effects; agitation was more common with SSRI use,\" Mills says. \"SSRIs and SNRIs were not associated with suicidal thoughts. This finding is consistent with earlier studies that suggest that suicidality relates to the condition being treated,\" Strawn adds. \"Medication side effects are important for clinicians to consider, particularly in light of data suggesting these medications also differ in terms of how effective they are. SSRIs are a better option compared to SNRIs and are the treatment of choice for children and adolescents with anxiety.\" Explore further New study may help guide treatment of pediatric anxiety More information: Jeffrey A. Mills et al. Antidepressant Tolerability in Pediatric Anxiety and Obsessive-Compulsive Disorders: A Bayesian Hierarchical Modeling Meta-Analysis, Journal of the American Academy of Child & Adolescent Psychiatry (2019). Journal information: Journal of the American Academy of Child & Adolescent Psychiatry Jeffrey A. Mills et al. Antidepressant Tolerability in Pediatric Anxiety and Obsessive-Compulsive Disorders: A Bayesian Hierarchical Modeling Meta-Analysis,(2019). DOI: 10.1016/j.jaac.2019.10.013\n",
            "\n",
            "Text\n",
            "ba97\t231964816.000000\tAutism and ADHD share genes\n",
            "b3a8\t231995296.000000\tAllergy News\n",
            "aeb0\t232016256.000000\tVaccines Fast Facts\n",
            "8ce1\t232171008.000000\tHelper protein worsens diabetic eye disease: Blocking second protein could lead to better treatment\n",
            "6628\t232183120.000000\tBrain function abnormal in children with Type 1 diabetes\n",
            "9601\t232187568.000000\tStem Cells News\n",
            "bdd1\t232196000.000000\tBrain function irregular in children with type 1 diabetes, study says\n",
            "c21e\t232199968.000000\tInfectious Diseases News\n",
            "2b1d\t232205728.000000\tStem Cells News\n",
            "7b21\t232214592.000000\tMachine-guided engineering of AAV capsids\n",
            "Researchers from the national psychiatric project iPSYCH have found that autism and ADHD share changes in the same genes. The new knowledge relates directly to the biological causes of the two child psychiatric disorders. In Denmark, approximately one per cent of schoolchildren have autism and two to three per cent are diagnosed with ADHD. Autism and ADHD are different developmental disorders, but they can have certain common symptoms. For example, children with autism can demonstrate violent or aggressive behaviour, be impulsive, and have problems in school and with social relations -- and these same symptoms can be shared by children with ADHD. Researchers from iPSYCH, Denmark's largest research project in the field of psychiatry, have now discovered that the similarities between the two diagnoses can be linked to changes in the same genes. The new study is the largest study to date of rare mutations in the genome of people with ADHD and autism. \"The very fact that mutations are found to the same extent and in the same genes in children with autism and in children with ADHD, points towards the same biological mechanisms being involved,\" says Anders Brglum, who is professor at Aarhus University, principal investigator at iPSYCH and one of the leading researchers behind the study. The study was carried out in collaboration with the Broad Institute and Harvard. First time a gene is linked to ADHD and autism The results have just been published in the international journal Nature Neuroscience. advertisement \"This is the first time that the genome has been mapped so comprehensively for both ADHD and autism, and the discovery that children with ADHD have the same amount of deleterious gene mutations in their DNA as children with autism is both striking and quite surprising,\" says Anders Brglum. The findings point directly towards which biological causal mechanisms are shared by ADHD and autism. \"In the study, the gene that is most frequently affected by mutations in people with ADHD or autism is the so-called MAP1A gene. The gene is involved in the formation of the physical structure of nerve cells -- their inner 'skeleton', so to speak -- and is important for the development of the brain,\" explains Anders Brglum. This is the first time that this gene has been linked to the development of ADHD and autism, and the mutations found by the researchers give a significantly increased risk of developing autism and/or ADHD. \"We discovered an increased burden of mutations that destroy or severely affect the MAP1A gene in those with ADHD and autism, while very few of the control subjects had such changes in the gene,\" explains Anders Brglum. This means that the risk of ADHD and autism increases by more than 15 times for people who carry such a mutation. The researchers have analysed the genes of approximately 8,000 people with autism and/or ADHD, and 5,000 people without either of the two disorders, all from Denmark. The study also incorporated additional data from approx. 45,000 international control subjects who did not have any psychiatric disorders. \"The study shows that many more genes for ADHD and autism can be identified directly by studying more people in a similar way with extensive DNA sequencing, thereby providing a more complete picture of the biological causal mechanisms and possible approaches to medical treatment,\" explains the researcher. As part of the project, Anders Brglum and his colleagues have had access to samples from the Danish National Biobank at the Statens Serum Institut and to data from the Danish Psychiatric Central Research Register. People born in Denmark between 1981 and 2005 were matched with diagnoses of autism, ADHD and mental retardation.\n",
            "\n",
            "\n",
            "roberta-base-nli-mean-tokens\n",
            "Title\n",
            "ccbd\t328556800.000000\tSide effects of pediatric medications for anxiety, OCD\n",
            "e18e\t328745600.000000\tGreat Ormond Street Hospital accused of 'cover up' in scandal over controversial treatments given to children\n",
            "08d7\t328752128.000000\tRecords: Arkansas youth treatment center broke federal rules\n",
            "56d3\t328754496.000000\tFBI presumes deadly Navy base shooting was \"act of terrorism\"\n",
            "dfb7\t328775680.000000\tOpinion | Impeach Trump for Racism?\n",
            "f14b\t328779936.000000\tDonald Trump impeachment: US President accused of 'abuse of power' in office\n",
            "c1b7\t328781728.000000\tEvangelist Franklin Graham calls impeachment hearing 'a day of shame for America'\n",
            "0e10\t328790144.000000\tRed alert - The anti-vax movement causes an epidemic in Samoa\n",
            "d8ac\t328791264.000000\tPensacola shooting \"appears to be a terrorist attack,\" National Security Adviser Robert O'Brien says\n",
            "dc59\t328792352.000000\tExtinction Rebellion: The 'reluctant activists' facing criminal records\n",
            "Sometimes, the medications needed to function and live a quality life cause side effects that can make life quite uncomfortable. Dr. Jeffrey Strawn, associate professor in the Department of Psychiatry and Behavioral Neuroscience at the University of Cincinnati College of Medicine, and Jeffrey Mills, associate professor in the Department of Economics at the UC Lindner College of Business, published a study in the Journal of the American Academy of Child & Adolescent Psychiatry looking specifically at side effects that impact children and adolescents being treated for anxiety disorders and obsessive-compulsive disorder (OCD). Strawn says this is one of the first studies examining side effects of these medications in youth that doesn't just focus on suicidal thinking or discontinuation of medication. \"For youth with anxiety disorders and OCD, these medications improve symptoms and functional outcomes,\" he says. \"Over the past two decades, selective serotonin reuptake inhibitors, known as SSRIs, and serotonin-norepinephrine reuptake inhibitors, known as SNRIs, have become the standard medication treatments for pediatric patients with these conditions.\" The UC study assessed quality-of-life issues. \"Evaluations of antidepressant tolerability focus almost entirely on discontinuation of the medicine or suicidality. We wanted to examine side effects commonly reported in pediatric patients treated with antidepressants, including agitation, nausea, abdominal pain, insomnia, headache and fatigue, in addition to suicidality and discontinuation of medication.\" SSRIs increase levels of serotonin in the brain. SNRIs block the reabsorption of the neurotransmitters serotonin and norepinephrine in the brain. In this study, Mills and Strawn looked at academic peer-reviewed articles through March 1, 2019, and identified SSRI and SNRI studies in patients under 18 with OCD and anxiety disorders, specifically noting side effect rates. They used statistical tools known as Bayesian hierarchical models created by Mills that enable results from different studies to be combined while taking into account variations across patients and those studies. \"Out of 18 trials, which included more than 2,500 patients who were treated and then compared to patients taking a placebo, SSRIs produced more side effects; agitation was more common with SSRI use,\" Mills says. \"SSRIs and SNRIs were not associated with suicidal thoughts. This finding is consistent with earlier studies that suggest that suicidality relates to the condition being treated,\" Strawn adds. \"Medication side effects are important for clinicians to consider, particularly in light of data suggesting these medications also differ in terms of how effective they are. SSRIs are a better option compared to SNRIs and are the treatment of choice for children and adolescents with anxiety.\"\n",
            "\n",
            "Text\n",
            "2334\t311335072.000000\tWhat the Democrats Left Out\n",
            "228b\t311383936.000000\tDisney advierte que su nueva pelicula de Star Wars podria desencadenar ataques en personas con epilepsia\n",
            "397e\t311388608.000000\tTrump desperately using lies, distortions to fight impeachment\n",
            "2561\t311402368.000000\tHere's What's in the Articles of Impeachment Against President Trump\n",
            "3d10\t311408640.000000\tAttorney General Barr blasts Russia investigation as a 'travesty'\n",
            "55f5\t311431712.000000\tNinos que nacen de embriones congelados tienen mayor riesgo de cancer infantil, revela estudio\n",
            "ccbd\t311434272.000000\tSide effects of pediatric medications for anxiety, OCD\n",
            "ba97\t311436064.000000\tAutism and ADHD share genes\n",
            "c8d1\t311437408.000000\tLa Camara de Representantes de EE. UU. acusa a Trump de abuso de poder y obstruccion al Congreso\n",
            "3697\t311441696.000000\tWhat ISIS Really Wants\n",
            "Lets start with abuse of power. Here, the Committee asserts that the president asked a foreign government to investigate his political rival. Chairman Jerry Nadler explained, The first article is for Abuse of Power. It is an impeachable offense for the President to exercise the powers of his public office to obtain an improper personal benefit, while ignoring or injuring the national interest. What exactly is an abuse of power? The term is not defined in the Constitution, and indeed it resists a simple definition. This is a crime that exists in a persons subjective judgment: One persons abuse of power is anothers diplomacy. Now, the Democrats articles of impeachment insist, is not the time to argue about the specific contours of Trumps conduct; there is plenty of time for that debate. But the deliberations over whether Trump committed an amorphous, malleable offense will not get bogged down in difficult constitutional or factual questions, as obstruction of justice would. The inquiry is fairly straightforward and streamlined, exactly as the House wants it. The second article of impeachment, in the abstract, is also very easy to prove. The House issued subpoenas to the Trump administration to assist its impeachment inquiry. In turn, the Trump administration categorically refused to comply with all of those subpoenas. The House of Representatives then asked the courts to enforce those subpoenas. And the Trump administration asserted various privileges, mirroring arguments they have made in prior court cases. That litigation proceeds separately. But now the House contends that Trumps refusal to comply with the subpoenas is itself an impeachable act. Is that theory correct? Trump will likely counter that asserting a privilege in lieu of responding to a subpoena is a well-worn executive practice, not grounds for removal. Who is right? The Senate will decide. But like with abuse of power, the factual issues will not be in dispute. All that is left to decide is whether doing so is sufficient for impeachment. The Senate is heading into uncharted territory. Once articles of impeachment are completely decoupled from any clearly articulated offenses, the burden of charging a president with abuse of power is significantly reduced. Moreover, any president who refuses to comply with what he sees as an improper investigation can be charged with obstruction of Congress. This one-two punch can be drafted with far greater ease than were the articles of impeachment presented against Presidents Andrew Johnson, Richard Nixon, or Bill Clinton. Without question, Congress can convict a president for conduct that is not criminal. This process is not bound by the strictures of the United States code. Moreover, Congress can begin impeachment proceedings for conduct that is inconsistent with the presidents duty to faithfully execute the laws. This inquiry, though subjective, is a necessary feature of the American constitutional order. But the predicates of the Trump articles will set a dangerous precedent, as impeachment might becomeregrettablya common, quadrennial feature of our polity. This story is part of the project The Battle for the Constitution, in partnership with the National Constitution Center. We want to hear what you think about this article. Submit a letter to the editor or write to letters@theatlantic.com.\n",
            "\n",
            "\n",
            "distilbert-base-nli-mean-tokens\n",
            "Title\n",
            "7a57\t117254248.000000\tAutism News\n",
            "56cf\t117254248.000000\tAutism News\n",
            "5f06\t117284496.000000\tSpecialized immune cells could help repair inflammatory bowel disease damage in children\n",
            "ccbd\t117284752.000000\tSide effects of pediatric medications for anxiety, OCD\n",
            "1f58\t117313896.000000\tVaccines News\n",
            "5634\t117333264.000000\tAn Experimental Genetic Test Gives Early Warning For Kids At Risk Of Type 1 Diabetes\n",
            "2981\t117335520.000000\tThere's A Promising New Vaccine For One Of The World's Top Health Threats\n",
            "ba97\t117339944.000000\tAutism and ADHD share genes\n",
            "fd63\t117347264.000000\tHealth experts warn of emerging threat of Nipah virus\n",
            "8de7\t117347264.000000\tHealth experts warn of emerging threat of Nipah virus\n",
            "read more Down syndrome, due to an extra chromosome 21, occurs in 250,000 children and adults in the United States, making it the country's most common chromosomal disorder. Inherited heart defects, ... read more A research team has found exposure to sound -- not sound reduction -- during early development of mice engineered to have Fragile X Syndrome, or FXS, restores molecular, cellular, and functional ... read more The annual transition to and from daylight saving time (DST) has clinical implications that last longer than the days where clocks 'fall back' or 'spring ... read more Zebrafish research is a promising way to understand the neural and genetic causes of eye movement problems in people, according to multi-university ... read more Severe infections during pregnancy have been connected to a range of psychiatric disorders by different studies in humans and animals. Now, researchers have shown in mice how the infections affect ... read more A team of psychology researchers is providing one of the first comprehensive literature reviews on arrogance, as well as a way to classify the condition on different levels across a spectrum, ... read more When people become stressed, their bodies can respond by sweating. Now, researchers are monitoring how much adolescents severely affected by autism sweat in order to better understand when behavioral ... read more Communicating with others is one of the biggest difficulties for autistic children. Asking for help, initiating social interaction and sharing their emotions become skills that require learning ... read more Researchers have devised a new way to rapidly image synaptic proteins at high resolution. Using fluorescent nucleic acid probes, they can label and image as many as 12 different proteins in neuronal ... read more The expression of many genes that have previously been associated with autism is abnormal also in violent psychopathy, a new study shows. The researchers used stem cell technology to analyse the ... read more Autism rates among black and HIspanic children are catching up to and, in many states, exceeding rates among white youth, who have historically had higher prevalence, a new study ... read more A specific gene associated with autism appears to undergo changes in the sperm of men who use marijuana, according to new research. The gene change occurs through a process called DNA methylation, ... read more Pivotal response treatment involving parents works better than other existing therapies at motivating children with autism and significant speech delays to talk, according to the results of a large ... read more Neurodevelopmental disorders arising from rare genetic mutations can cause atypical cognitive function, intellectual disability, and developmental delays, yet it is unclear why and how this happens. ... read more Scientist have identified a link between exposure to high levels of estrogen sex hormones in the womb and the likelihood of developing ... read more Neuroscientists have identified a brain region linked to altered social interactions in an autism model. Restoring activity of a specific forebrain region in a mouse model also reversed social traits ... read more Oxytocin is referred to as the love hormone and is important in the regulation of social and maternal behavior. The oxytocin system in the brain may be key to new treatments for many mental health ... read more For the first time researchers have been able to demonstrate that the brains of a patient and therapist become synchronized during a music therapy session, a breakthrough that could improve future ... read more For the brain to function smoothly, its cells must carefully regulate which proteins are produced and when. By studying gene regulation, researchers are now shedding light on complex brain conditions ...\n",
            "\n",
            "Text\n",
            "ba97\t107199360.000000\tAutism and ADHD share genes\n",
            "2546\t107231696.000000\tSkin Care News\n",
            "7693\t107240736.000000\tInfectious Diseases News\n",
            "2981\t107241984.000000\tThere's A Promising New Vaccine For One Of The World's Top Health Threats\n",
            "5f06\t107243040.000000\tSpecialized immune cells could help repair inflammatory bowel disease damage in children\n",
            "020a\t107245592.000000\tLeukemia: Could germ-free childhoods could trigger illness?\n",
            "5a5f\t107246624.000000\tMicrobes and More News\n",
            "9601\t107248800.000000\tStem Cells News\n",
            "6e40\t107250208.000000\tStress News\n",
            "c21e\t107252528.000000\tInfectious Diseases News\n",
            "Researchers from the national psychiatric project iPSYCH have found that autism and ADHD share changes in the same genes. The new knowledge relates directly to the biological causes of the two child psychiatric disorders. In Denmark, approximately one per cent of schoolchildren have autism and two to three per cent are diagnosed with ADHD. Autism and ADHD are different developmental disorders, but they can have certain common symptoms. For example, children with autism can demonstrate violent or aggressive behaviour, be impulsive, and have problems in school and with social relations -- and these same symptoms can be shared by children with ADHD. Researchers from iPSYCH, Denmark's largest research project in the field of psychiatry, have now discovered that the similarities between the two diagnoses can be linked to changes in the same genes. The new study is the largest study to date of rare mutations in the genome of people with ADHD and autism. \"The very fact that mutations are found to the same extent and in the same genes in children with autism and in children with ADHD, points towards the same biological mechanisms being involved,\" says Anders Brglum, who is professor at Aarhus University, principal investigator at iPSYCH and one of the leading researchers behind the study. The study was carried out in collaboration with the Broad Institute and Harvard. First time a gene is linked to ADHD and autism The results have just been published in the international journal Nature Neuroscience. advertisement \"This is the first time that the genome has been mapped so comprehensively for both ADHD and autism, and the discovery that children with ADHD have the same amount of deleterious gene mutations in their DNA as children with autism is both striking and quite surprising,\" says Anders Brglum. The findings point directly towards which biological causal mechanisms are shared by ADHD and autism. \"In the study, the gene that is most frequently affected by mutations in people with ADHD or autism is the so-called MAP1A gene. The gene is involved in the formation of the physical structure of nerve cells -- their inner 'skeleton', so to speak -- and is important for the development of the brain,\" explains Anders Brglum. This is the first time that this gene has been linked to the development of ADHD and autism, and the mutations found by the researchers give a significantly increased risk of developing autism and/or ADHD. \"We discovered an increased burden of mutations that destroy or severely affect the MAP1A gene in those with ADHD and autism, while very few of the control subjects had such changes in the gene,\" explains Anders Brglum. This means that the risk of ADHD and autism increases by more than 15 times for people who carry such a mutation. The researchers have analysed the genes of approximately 8,000 people with autism and/or ADHD, and 5,000 people without either of the two disorders, all from Denmark. The study also incorporated additional data from approx. 45,000 international control subjects who did not have any psychiatric disorders. \"The study shows that many more genes for ADHD and autism can be identified directly by studying more people in a similar way with extensive DNA sequencing, thereby providing a more complete picture of the biological causal mechanisms and possible approaches to medical treatment,\" explains the researcher. As part of the project, Anders Brglum and his colleagues have had access to samples from the Danish National Biobank at the Statens Serum Institut and to data from the Danish Psychiatric Central Research Register. People born in Denmark between 1981 and 2005 were matched with diagnoses of autism, ADHD and mental retardation.\n",
            "\n",
            "\n"
          ],
          "name": "stdout"
        }
      ]
    },
    {
      "cell_type": "markdown",
      "metadata": {
        "id": "z_dSwKdiT4Je",
        "colab_type": "text"
      },
      "source": [
        "## Brief Analysis\n",
        "Actually loses out to tfidf based on this search query. Seems more capable than tfidf at gathered articles that share similar contexts - except they are too broad. For example, using the PIE expressway query, it doesn't pull up results related to pie crusts. Corroborates that a tfidf weighted approach might be best."
      ]
    },
    {
      "cell_type": "markdown",
      "metadata": {
        "id": "tWGcwPz1hQ_o",
        "colab_type": "text"
      },
      "source": [
        "# GENSIM\n",
        "used for word embeddings (tfidf as weights approach), provides distance formulae like cosine and WMD"
      ]
    },
    {
      "cell_type": "code",
      "metadata": {
        "id": "Sn3019v8hDhK",
        "colab_type": "code",
        "colab": {}
      },
      "source": [
        "import gensim\n",
        "from gensim.models import KeyedVectors"
      ],
      "execution_count": 0,
      "outputs": []
    },
    {
      "cell_type": "code",
      "metadata": {
        "id": "7T4kePErigDu",
        "colab_type": "code",
        "colab": {}
      },
      "source": [
        "glove_loc = '/content/drive/My Drive/CSIT Internship/code/gensim_glove_vectors.txt' #Common crawl uncased 42 billion tokens 300 dimensions\n",
        "word2vec_loc = '/content/drive/My Drive/CSIT Internship/code/GoogleNews-vectors-negative300.bin' #google news 3 million tokens 300 dimensions"
      ],
      "execution_count": 0,
      "outputs": []
    },
    {
      "cell_type": "code",
      "metadata": {
        "id": "B5RknIaSiEkm",
        "colab_type": "code",
        "outputId": "54433b2c-5fc4-4cf2-b7aa-bfc84268dbb4",
        "colab": {
          "base_uri": "https://localhost:8080/",
          "height": 394
        }
      },
      "source": [
        "newsve = KeyedVectors.load_word2vec_format(word2vec_loc, binary=True)\n",
        "#glove = KeyedVectors.load_word2vec_format(glove_loc, mmap='r')\n",
        "#word_vectors.distance(\"media\", \"media\") #cosine"
      ],
      "execution_count": 0,
      "outputs": [
        {
          "output_type": "stream",
          "text": [
            "/usr/local/lib/python3.6/dist-packages/smart_open/smart_open_lib.py:402: UserWarning: This function is deprecated, use smart_open.open instead. See the migration notes for details: https://github.com/RaRe-Technologies/smart_open/blob/master/README.rst#migrating-to-the-new-open-function\n",
            "  'See the migration notes for details: %s' % _MIGRATION_NOTES_URL\n"
          ],
          "name": "stderr"
        },
        {
          "output_type": "error",
          "ename": "KeyboardInterrupt",
          "evalue": "ignored",
          "traceback": [
            "\u001b[0;31m---------------------------------------------------------------------------\u001b[0m",
            "\u001b[0;31mKeyboardInterrupt\u001b[0m                         Traceback (most recent call last)",
            "\u001b[0;32m<ipython-input-83-15e19e813d16>\u001b[0m in \u001b[0;36m<module>\u001b[0;34m()\u001b[0m\n\u001b[0;32m----> 1\u001b[0;31m \u001b[0mnewsve\u001b[0m \u001b[0;34m=\u001b[0m \u001b[0mKeyedVectors\u001b[0m\u001b[0;34m.\u001b[0m\u001b[0mload_word2vec_format\u001b[0m\u001b[0;34m(\u001b[0m\u001b[0mword2vec_loc\u001b[0m\u001b[0;34m,\u001b[0m \u001b[0mbinary\u001b[0m\u001b[0;34m=\u001b[0m\u001b[0;32mTrue\u001b[0m\u001b[0;34m)\u001b[0m\u001b[0;34m\u001b[0m\u001b[0;34m\u001b[0m\u001b[0m\n\u001b[0m\u001b[1;32m      2\u001b[0m \u001b[0;31m#glove = KeyedVectors.load_word2vec_format(glove_loc, mmap='r')\u001b[0m\u001b[0;34m\u001b[0m\u001b[0;34m\u001b[0m\u001b[0;34m\u001b[0m\u001b[0m\n\u001b[1;32m      3\u001b[0m \u001b[0;31m#word_vectors.distance(\"media\", \"media\") #cosine\u001b[0m\u001b[0;34m\u001b[0m\u001b[0;34m\u001b[0m\u001b[0;34m\u001b[0m\u001b[0m\n",
            "\u001b[0;32m/usr/local/lib/python3.6/dist-packages/gensim/models/keyedvectors.py\u001b[0m in \u001b[0;36mload_word2vec_format\u001b[0;34m(cls, fname, fvocab, binary, encoding, unicode_errors, limit, datatype)\u001b[0m\n\u001b[1;32m   1436\u001b[0m         return _load_word2vec_format(\n\u001b[1;32m   1437\u001b[0m             \u001b[0mcls\u001b[0m\u001b[0;34m,\u001b[0m \u001b[0mfname\u001b[0m\u001b[0;34m,\u001b[0m \u001b[0mfvocab\u001b[0m\u001b[0;34m=\u001b[0m\u001b[0mfvocab\u001b[0m\u001b[0;34m,\u001b[0m \u001b[0mbinary\u001b[0m\u001b[0;34m=\u001b[0m\u001b[0mbinary\u001b[0m\u001b[0;34m,\u001b[0m \u001b[0mencoding\u001b[0m\u001b[0;34m=\u001b[0m\u001b[0mencoding\u001b[0m\u001b[0;34m,\u001b[0m \u001b[0municode_errors\u001b[0m\u001b[0;34m=\u001b[0m\u001b[0municode_errors\u001b[0m\u001b[0;34m,\u001b[0m\u001b[0;34m\u001b[0m\u001b[0;34m\u001b[0m\u001b[0m\n\u001b[0;32m-> 1438\u001b[0;31m             limit=limit, datatype=datatype)\n\u001b[0m\u001b[1;32m   1439\u001b[0m \u001b[0;34m\u001b[0m\u001b[0m\n\u001b[1;32m   1440\u001b[0m     \u001b[0;32mdef\u001b[0m \u001b[0mget_keras_embedding\u001b[0m\u001b[0;34m(\u001b[0m\u001b[0mself\u001b[0m\u001b[0;34m,\u001b[0m \u001b[0mtrain_embeddings\u001b[0m\u001b[0;34m=\u001b[0m\u001b[0;32mFalse\u001b[0m\u001b[0;34m)\u001b[0m\u001b[0;34m:\u001b[0m\u001b[0;34m\u001b[0m\u001b[0;34m\u001b[0m\u001b[0m\n",
            "\u001b[0;32m/usr/local/lib/python3.6/dist-packages/gensim/models/utils_any2vec.py\u001b[0m in \u001b[0;36m_load_word2vec_format\u001b[0;34m(cls, fname, fvocab, binary, encoding, unicode_errors, limit, datatype)\u001b[0m\n\u001b[1;32m    210\u001b[0m                         \u001b[0mword\u001b[0m\u001b[0;34m.\u001b[0m\u001b[0mappend\u001b[0m\u001b[0;34m(\u001b[0m\u001b[0mch\u001b[0m\u001b[0;34m)\u001b[0m\u001b[0;34m\u001b[0m\u001b[0;34m\u001b[0m\u001b[0m\n\u001b[1;32m    211\u001b[0m                 \u001b[0mword\u001b[0m \u001b[0;34m=\u001b[0m \u001b[0mutils\u001b[0m\u001b[0;34m.\u001b[0m\u001b[0mto_unicode\u001b[0m\u001b[0;34m(\u001b[0m\u001b[0;34mb''\u001b[0m\u001b[0;34m.\u001b[0m\u001b[0mjoin\u001b[0m\u001b[0;34m(\u001b[0m\u001b[0mword\u001b[0m\u001b[0;34m)\u001b[0m\u001b[0;34m,\u001b[0m \u001b[0mencoding\u001b[0m\u001b[0;34m=\u001b[0m\u001b[0mencoding\u001b[0m\u001b[0;34m,\u001b[0m \u001b[0merrors\u001b[0m\u001b[0;34m=\u001b[0m\u001b[0municode_errors\u001b[0m\u001b[0;34m)\u001b[0m\u001b[0;34m\u001b[0m\u001b[0;34m\u001b[0m\u001b[0m\n\u001b[0;32m--> 212\u001b[0;31m                 \u001b[0mweights\u001b[0m \u001b[0;34m=\u001b[0m \u001b[0mfromstring\u001b[0m\u001b[0;34m(\u001b[0m\u001b[0mfin\u001b[0m\u001b[0;34m.\u001b[0m\u001b[0mread\u001b[0m\u001b[0;34m(\u001b[0m\u001b[0mbinary_len\u001b[0m\u001b[0;34m)\u001b[0m\u001b[0;34m,\u001b[0m \u001b[0mdtype\u001b[0m\u001b[0;34m=\u001b[0m\u001b[0mREAL\u001b[0m\u001b[0;34m)\u001b[0m\u001b[0;34m.\u001b[0m\u001b[0mastype\u001b[0m\u001b[0;34m(\u001b[0m\u001b[0mdatatype\u001b[0m\u001b[0;34m)\u001b[0m\u001b[0;34m\u001b[0m\u001b[0;34m\u001b[0m\u001b[0m\n\u001b[0m\u001b[1;32m    213\u001b[0m                 \u001b[0madd_word\u001b[0m\u001b[0;34m(\u001b[0m\u001b[0mword\u001b[0m\u001b[0;34m,\u001b[0m \u001b[0mweights\u001b[0m\u001b[0;34m)\u001b[0m\u001b[0;34m\u001b[0m\u001b[0;34m\u001b[0m\u001b[0m\n\u001b[1;32m    214\u001b[0m         \u001b[0;32melse\u001b[0m\u001b[0;34m:\u001b[0m\u001b[0;34m\u001b[0m\u001b[0;34m\u001b[0m\u001b[0m\n",
            "\u001b[0;31mKeyboardInterrupt\u001b[0m: "
          ]
        }
      ]
    }
  ]
}